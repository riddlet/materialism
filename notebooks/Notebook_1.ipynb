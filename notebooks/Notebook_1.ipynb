{
 "cells": [
  {
   "cell_type": "markdown",
   "metadata": {},
   "source": [
    "# Basic Topic Models\n",
    "\n",
    "In this notebook I make a preliminary pass at giving some review data to a basic topic model. These reviews are from [here](http://times.cs.uiuc.edu/~wang296/Data/), and I've focused solely on the TV's category. I've done this for no other reason than it was the first one on the list, and this is really just about testing some ideas out before moving on to a fuller analysis. This data consists of approximately 243k reviews.\n",
    "\n",
    "I've fit 4 different topic models to these data - one for each of 10, 25, 50, and 100 topics. I've done no model comparison to determine which is best (though such a thing is possible), and have done very little tweaking that might lead them to perform more ideally (i.e. I should probably remove some more of the more common words like TV).\n",
    "\n",
    "In principle, we could ask how the topics from these topic models vary with respect to the product ratings. We could also incorporate the ratings directly into the model estimation (e.g. [supervised lda](https://arxiv.org/pdf/1003.0783.pdf)). "
   ]
  },
  {
   "cell_type": "code",
   "execution_count": 62,
   "metadata": {
    "collapsed": false
   },
   "outputs": [],
   "source": [
    "import json\n",
    "from pprint import pprint\n",
    "import glob\n",
    "import pandas as pd\n",
    "from sklearn.feature_extraction.text import CountVectorizer\n",
    "import lda\n",
    "import numpy as np"
   ]
  },
  {
   "cell_type": "code",
   "execution_count": 87,
   "metadata": {
    "collapsed": false
   },
   "outputs": [],
   "source": [
    "def print_topics(model, vocab, n_top_words=10):\n",
    "    topic_word = model.topic_word_\n",
    "    topics = []\n",
    "    for i, topic_dist in enumerate(topic_word):\n",
    "        topic_words = np.array(vocab)[np.argsort(topic_dist)][:-(n_top_words+1):-1]\n",
    "        topics.append('Topic {}: {}'.format(i, ' - '.join(topic_words)))\n",
    "    \n",
    "    return(topics)"
   ]
  },
  {
   "cell_type": "markdown",
   "metadata": {},
   "source": [
    "# Read the data"
   ]
  },
  {
   "cell_type": "code",
   "execution_count": 33,
   "metadata": {
    "collapsed": false
   },
   "outputs": [],
   "source": [
    "files = glob.glob('../data/AmazonReviews/TVs/*.json') # data from http://times.cs.uiuc.edu/~wang296/Data/\n",
    "df_prods = pd.DataFrame()\n",
    "df_revs = pd.DataFrame()\n",
    "for i in files:\n",
    "    with open(i) as data_file:\n",
    "        f = json.load(data_file)\n",
    "        try:\n",
    "            temp_prods = pd.io.json.json_normalize(f['ProductInfo'])\n",
    "            temp_revs = pd.io.json.json_normalize(f['Reviews'])\n",
    "        except:\n",
    "            pass\n",
    "        \n",
    "        df_prods = df_prods.append(temp_prods)\n",
    "        df_revs = df_revs.append(temp_revs)\n",
    "\n",
    "df_revs.dropna(axis=0, subset=['Content'], inplace=True)"
   ]
  },
  {
   "cell_type": "markdown",
   "metadata": {},
   "source": [
    "# Create a document-term matrix"
   ]
  },
  {
   "cell_type": "code",
   "execution_count": 92,
   "metadata": {
    "collapsed": false
   },
   "outputs": [
    {
     "data": {
      "text/plain": [
       "<242638x33870 sparse matrix of type '<type 'numpy.int64'>'\n",
       "\twith 11445523 stored elements in Compressed Sparse Row format>"
      ]
     },
     "execution_count": 92,
     "metadata": {},
     "output_type": "execute_result"
    }
   ],
   "source": [
    "cv = CountVectorizer(stop_words='english', max_df=.95, min_df=5)\n",
    "X = cv.fit_transform(df_revs.Content)\n",
    "X"
   ]
  },
  {
   "cell_type": "markdown",
   "metadata": {},
   "source": [
    "# Define & fit the models"
   ]
  },
  {
   "cell_type": "code",
   "execution_count": 76,
   "metadata": {
    "collapsed": false
   },
   "outputs": [
    {
     "data": {
      "text/plain": [
       "<lda.lda.LDA instance at 0x14788e878>"
      ]
     },
     "execution_count": 76,
     "metadata": {},
     "output_type": "execute_result"
    }
   ],
   "source": [
    "model_10 = lda.LDA(n_topics=10, n_iter=1500, random_state=1)\n",
    "model_25 = lda.LDA(n_topics=25, n_iter=1500, random_state=1)\n",
    "model_50 = lda.LDA(n_topics=50, n_iter=1500, random_state=1)\n",
    "model_100 = lda.LDA(n_topics=100, n_iter=1500, random_state=1)\n",
    "model_10.fit(X)\n",
    "model_25.fit(X)\n",
    "model_50.fit(X)\n",
    "model_100.fit(X)"
   ]
  },
  {
   "cell_type": "markdown",
   "metadata": {},
   "source": [
    "## Below here, I've printed out the top 10 words from each topic in each topic model"
   ]
  },
  {
   "cell_type": "code",
   "execution_count": 88,
   "metadata": {
    "collapsed": false
   },
   "outputs": [
    {
     "data": {
      "text/plain": [
       "['Topic 0: tv - remote - wall - stand - mount - sound - picture - good - like - just',\n",
       " 'Topic 1: tv - 3d - picture - like - just - great - glasses - really - movies - ray',\n",
       " 'Topic 2: tv - sound - hdmi - cable - picture - audio - hd - set - speakers - use',\n",
       " 'Topic 3: tv - great - picture - sound - good - quality - easy - price - love - set',\n",
       " 'Topic 4: tv - smart - netflix - remote - apps - use - app - amazon - internet - samsung',\n",
       " 'Topic 5: tv - picture - screen - settings - set - black - color - like - plasma - dark',\n",
       " 'Topic 6: monitor - 4k - computer - display - swfparams - resolution - video - var - hdmi - pc',\n",
       " 'Topic 7: tv - samsung - problem - service - vizio - customer - just - warranty - new - called',\n",
       " 'Topic 8: tv - amazon - delivery - set - box - great - shipping - price - time - did',\n",
       " 'Topic 9: tv - picture - samsung - quality - sony - price - best - lcd - led - better']"
      ]
     },
     "execution_count": 88,
     "metadata": {},
     "output_type": "execute_result"
    }
   ],
   "source": [
    "print_topics(model_10, cv.get_feature_names())"
   ]
  },
  {
   "cell_type": "code",
   "execution_count": 89,
   "metadata": {
    "collapsed": false
   },
   "outputs": [
    {
     "data": {
      "text/plain": [
       "['Topic 0: remote - tv - set - button - screen - channel - use - menu - control - turn',\n",
       " 'Topic 1: tv - service - customer - samsung - called - problem - support - told - amazon - said',\n",
       " 'Topic 2: tv - samsung - warranty - months - buy - year - years - bought - problem - just',\n",
       " 'Topic 3: 3d - tv - glasses - ray - blu - movies - 2d - movie - player - picture',\n",
       " 'Topic 4: screen - tv - picture - room - viewing - set - good - like - light - quality',\n",
       " 'Topic 5: settings - picture - color - mode - setting - set - tv - contrast - brightness - adjust',\n",
       " 'Topic 6: sound - tv - speakers - picture - quality - good - great - audio - bar - volume',\n",
       " 'Topic 7: tv - smart - apps - samsung - remote - use - keyboard - netflix - app - internet',\n",
       " 'Topic 8: tv - great - picture - room - good - bedroom - bought - perfect - size - love',\n",
       " 'Topic 9: tv - inch - vizio - samsung - picture - led - lg - hdtv - 32 - quality',\n",
       " 'Topic 10: monitor - 4k - computer - display - resolution - pc - hdmi - use - screen - 1080p',\n",
       " 'Topic 11: television - product - lg - model - amazon - samsung - set - unit - purchase - review',\n",
       " 'Topic 12: tv - remote - vizio - great - picture - good - really - work - like - use',\n",
       " 'Topic 13: tv - just - like - don - really - thing - know - time - got - say',\n",
       " 'Topic 14: tv - wall - stand - mount - screws - base - mounted - easy - mounting - hdmi',\n",
       " 'Topic 15: swfparams - var - function - com - images - document - amazon - nsprefix - http - getelementbyid',\n",
       " 'Topic 16: tv - screen - black - dark - light - like - issue - picture - issues - led',\n",
       " 'Topic 17: hdmi - cable - tv - hd - audio - dvd - player - channels - digital - box',\n",
       " 'Topic 18: tv - sony - price - samsung - picture - best - buy - quality - amazon - great',\n",
       " 'Topic 19: amazon - tv - delivery - box - shipping - set - great - arrived - time - delivered',\n",
       " 'Topic 20: picture - great - tv - easy - quality - good - price - set - recommend - sound',\n",
       " 'Topic 21: tv - netflix - internet - wireless - amazon - smart - wifi - connection - apps - router',\n",
       " 'Topic 22: tv - netflix - amazon - video - watch - app - movies - use - apple - usb',\n",
       " 'Topic 23: tv - great - picture - games - look - like - really - movies - looks - watching',\n",
       " 'Topic 24: plasma - panasonic - tv - picture - set - lcd - led - samsung - quality - better']"
      ]
     },
     "execution_count": 89,
     "metadata": {},
     "output_type": "execute_result"
    }
   ],
   "source": [
    "print_topics(model_25, cv.get_feature_names())"
   ]
  },
  {
   "cell_type": "code",
   "execution_count": 90,
   "metadata": {
    "collapsed": false
   },
   "outputs": [
    {
     "data": {
      "text/plain": [
       "['Topic 0: remote - tv - button - control - buttons - use - like - menu - channel - screen',\n",
       " 'Topic 1: ray - blu - player - tv - dvd - hd - picture - blue - movies - set',\n",
       " 'Topic 2: tv - keyboard - apps - remote - web - smart - browser - use - app - internet',\n",
       " 'Topic 3: support - manual - product - information - does - amazon - samsung - set - tv - problem',\n",
       " 'Topic 4: service - tv - customer - samsung - called - told - support - problem - said - tech',\n",
       " 'Topic 5: tv - turn - problem - power - time - just - issue - times - seconds - turned',\n",
       " 'Topic 6: vizio - tv - remote - picture - smart - new - just - good - purchased - bought',\n",
       " 'Topic 7: tv - old - picture - samsung - sharp - lcd - years - inch - year - bought',\n",
       " 'Topic 8: tv - remote - receiver - box - sound - audio - cable - samsung - hdmi - use',\n",
       " 'Topic 9: screen - tv - black - dark - light - issue - scenes - like - white - issues',\n",
       " 'Topic 10: viewing - set - color - image - panel - angle - quality - contrast - lcd - display',\n",
       " 'Topic 11: motion - tv - picture - like - look - settings - effect - 120hz - rate - blur',\n",
       " 'Topic 12: just - like - don - thing - time - ll - set - know - want - say',\n",
       " 'Topic 13: monitor - 4k - computer - display - resolution - use - hdmi - pc - screen - using',\n",
       " 'Topic 14: update - tv - firmware - issue - review - issues - problem - software - model - 2013',\n",
       " 'Topic 15: quality - picture - tv - price - excellent - great - recommend - product - good - expectations',\n",
       " 'Topic 16: tv - great - bought - room - love - picture - bedroom - got - christmas - gift',\n",
       " 'Topic 17: tv - picture - great - amazing - love - quality - best - recommend - ve - clear',\n",
       " 'Topic 18: tv - apple - use - netflix - like - great - watch - love - app - ipad',\n",
       " 'Topic 19: good - tv - quality - picture - price - great - sound - nice - really - pretty',\n",
       " 'Topic 20: price - amazon - tv - buy - best - bought - got - deal - free - great',\n",
       " 'Topic 21: great - tv - picture - amazon - product - price - easy - good - purchase - set',\n",
       " 'Topic 22: set - easy - picture - setup - use - sound - good - great - quality - remote',\n",
       " 'Topic 23: tv - room - size - small - picture - bedroom - perfect - great - sound - screen',\n",
       " 'Topic 24: great - picture - tv - easy - price - good - love - sound - recommend - works',\n",
       " 'Topic 25: amazon - netflix - tv - app - apps - prime - video - watch - streaming - hulu',\n",
       " 'Topic 26: hdmi - cable - cables - tv - box - ports - dvd - great - need - works',\n",
       " 'Topic 27: tv - amazon - box - return - screen - new - replacement - received - arrived - shipping',\n",
       " 'Topic 28: just - tv - don - really - ve - like - didn - think - ll - know',\n",
       " 'Topic 29: screen - tv - room - light - glare - picture - bright - like - black - dark',\n",
       " 'Topic 30: tv - just - buy - like - dont - good - bought - say - got - thing',\n",
       " 'Topic 31: plasma - panasonic - picture - tv - led - lcd - set - better - best - plasmas',\n",
       " 'Topic 32: tv - games - gaming - game - great - xbox - ps3 - lag - play - look',\n",
       " 'Topic 33: swfparams - var - function - com - images - document - nsprefix - amazon - http - flashparams',\n",
       " 'Topic 34: lg - tv - remote - smart - magic - like - picture - great - 3d - just',\n",
       " 'Topic 35: tv - warranty - samsung - months - year - years - buy - repair - bought - problem',\n",
       " 'Topic 36: 3d - glasses - tv - 2d - movie - passive - movies - active - like - really',\n",
       " 'Topic 37: settings - picture - color - mode - setting - contrast - brightness - set - adjust - tv',\n",
       " 'Topic 38: television - reviews - purchase - did - read - research - samsung - set - decided - best',\n",
       " 'Topic 39: audio - hdmi - tv - speakers - input - inputs - sound - output - video - use',\n",
       " 'Topic 40: wall - tv - mount - stand - screws - base - mounted - mounting - easy - screw',\n",
       " 'Topic 41: sound - speakers - tv - picture - quality - bar - good - great - surround - volume',\n",
       " 'Topic 42: tv - smart - samsung - apps - features - great - hub - use - picture - like',\n",
       " 'Topic 43: delivery - tv - amazon - set - delivered - service - time - box - shipping - day',\n",
       " 'Topic 44: tv - usb - video - fi - wi - play - media - drive - files - movies',\n",
       " 'Topic 45: hd - channels - cable - tv - picture - antenna - channel - box - digital - set',\n",
       " 'Topic 46: tv - inch - hdtv - led - 1080p - samsung - lcd - 32 - 120hz - hz',\n",
       " 'Topic 47: tv - wireless - internet - wifi - connection - router - netflix - network - connect - connected',\n",
       " 'Topic 48: tv - watching - picture - watch - like - movies - hd - just - movie - sports',\n",
       " 'Topic 49: sony - samsung - picture - quality - series - model - better - tvs - best - bravia']"
      ]
     },
     "execution_count": 90,
     "metadata": {},
     "output_type": "execute_result"
    }
   ],
   "source": [
    "print_topics(model_50, cv.get_feature_names())"
   ]
  },
  {
   "cell_type": "code",
   "execution_count": 91,
   "metadata": {
    "collapsed": false
   },
   "outputs": [
    {
     "data": {
      "text/plain": [
       "['Topic 0: sony - tv - bravia - picture - samsung - quality - better - lcd - xbr - best',\n",
       " 'Topic 1: hdmi - cable - cables - box - ports - port - need - plug - use - using',\n",
       " 'Topic 2: tv - just - amazing - blu - away - picture - movie - ray - like - watching',\n",
       " 'Topic 3: just - like - thing - time - home - life - say - new - house - know',\n",
       " 'Topic 4: channels - cable - antenna - tv - channel - digital - hd - tuner - air - box',\n",
       " 'Topic 5: time - just - ll - like - know - way - did - ve - simply - point',\n",
       " 'Topic 6: support - tv - problem - tech - called - work - vizio - did - help - said',\n",
       " 'Topic 7: tv - samsung - use - camera - smart - features - skype - internet - feature - set',\n",
       " 'Topic 8: unit - toshiba - picture - good - quality - tcl - sound - better - set - price',\n",
       " 'Topic 9: color - colors - picture - black - blacks - look - contrast - dark - bright - settings',\n",
       " 'Topic 10: delivery - amazon - tv - delivered - service - set - time - shipping - box - day',\n",
       " 'Topic 11: panasonic - plasma - burn - viera - image - picture - hours - plasmas - better - black',\n",
       " 'Topic 12: screen - tv - dead - pixels - pixel - line - right - white - lines - left',\n",
       " 'Topic 13: samsung - model - tv - series - new - better - models - smart - picture - tvs',\n",
       " 'Topic 14: settings - color - mode - picture - contrast - calibration - gain - noise - tone - black',\n",
       " 'Topic 15: tv - best - picture - ve - buy - quality - amazing - love - great - seen',\n",
       " 'Topic 16: tv - watching - watch - movies - sports - like - football - picture - shows - hd',\n",
       " 'Topic 17: samsung - service - customer - product - products - support - company - buy - told - just',\n",
       " 'Topic 18: screen - dark - light - black - edge - led - scenes - lit - issues - issue',\n",
       " 'Topic 19: tv - like - just - really - use - nice - things - pretty - voice - good',\n",
       " 'Topic 20: screen - tv - flat - panel - visio - samsung - does - way - screens - want',\n",
       " 'Topic 21: tv - update - 2013 - 12 - 2012 - just - 10 - 2011 - purchased - today',\n",
       " 'Topic 22: update - firmware - tv - issue - software - issues - updates - upgrade - problem - review',\n",
       " 'Topic 23: box - tv - amazon - screen - new - arrived - packaging - shipping - came - damage',\n",
       " 'Topic 24: swfparams - var - function - document - images - com - nsprefix - amazon - http - flashparams',\n",
       " 'Topic 25: amazon - prime - netflix - tv - video - app - streaming - instant - watch - smart',\n",
       " 'Topic 26: great - arrived - amazon - easy - product - set - time - perfect - delivery - shipping',\n",
       " 'Topic 27: tv - bedroom - room - great - picture - small - perfect - good - kitchen - size',\n",
       " 'Topic 28: tv - dont - just - like - great - im - really - buy - thing - got',\n",
       " 'Topic 29: warranty - tv - months - year - repair - years - buy - bought - extended - cost',\n",
       " 'Topic 30: wireless - internet - tv - wifi - connection - router - fi - wi - connect - network',\n",
       " 'Topic 31: tv - smart - features - great - picture - love - use - really - quality - apps',\n",
       " 'Topic 32: picture - tv - clear - great - love - sound - crisp - happy - amazing - crystal',\n",
       " 'Topic 33: quality - picture - excellent - product - great - price - expectations - good - purchase - sound',\n",
       " 'Topic 34: wall - mount - tv - mounted - mounting - bracket - easy - install - mounts - screws',\n",
       " 'Topic 35: sound - speakers - bar - surround - quality - picture - tv - good - great - speaker',\n",
       " 'Topic 36: 3d - glasses - tv - passive - active - movie - pairs - pair - theater - 2d',\n",
       " 'Topic 37: service - called - tv - told - customer - said - days - send - weeks - repair',\n",
       " 'Topic 38: apple - tv - app - use - watch - netflix - ipad - movies - device - love',\n",
       " 'Topic 39: tv - screen - fit - size - inch - space - old - 32 - picture - flat',\n",
       " 'Topic 40: room - size - living - tv - perfect - great - bedroom - love - small - picture',\n",
       " 'Topic 41: don - tv - just - want - know - like - people - really - thing - buy',\n",
       " 'Topic 42: monitor - computer - 4k - display - resolution - pc - use - using - hdmi - seiki',\n",
       " 'Topic 43: rate - refresh - 4k - tv - 120hz - hz - 120 - 1080p - 60hz - 60',\n",
       " 'Topic 44: set - easy - setup - manual - instructions - box - simple - minutes - picture - use',\n",
       " 'Topic 45: easy - great - set - picture - use - setup - sound - love - good - light',\n",
       " 'Topic 46: screen - room - glare - light - bright - tv - windows - glossy - picture - matte',\n",
       " 'Topic 47: remote - tv - apps - vizio - use - buttons - keyboard - control - netflix - slow',\n",
       " 'Topic 48: amazon - price - free - buy - shipping - best - store - purchase - local - tax',\n",
       " 'Topic 49: television - picture - quality - purchase - televisions - purchased - recommend - price - great - product',\n",
       " 'Topic 50: samsung - problem - tv - issue - power - board - fix - problems - started - issues',\n",
       " 'Topic 51: keyboard - tv - web - browser - smart - remote - use - internet - apps - wireless',\n",
       " 'Topic 52: motion - like - effect - look - picture - settings - soap - opera - blur - tv',\n",
       " 'Topic 53: great - tv - picture - price - love - works - looks - good - sound - awesome',\n",
       " 'Topic 54: stars - tv - star - rating - just - reason - gave - good - price - given',\n",
       " 'Topic 55: apps - netflix - tv - app - youtube - internet - hulu - amazon - pandora - use',\n",
       " 'Topic 56: tv - design - looks - bezel - nice - stand - picture - slim - look - like',\n",
       " 'Topic 57: tv - bought - good - product - el - la - que - es - lo - en',\n",
       " 'Topic 58: reviews - review - read - tv - amazon - consumer - reading - reports - cnet - people',\n",
       " 'Topic 59: 3d - 2d - movies - tv - movie - glasses - amazing - content - conversion - watched',\n",
       " 'Topic 60: tv - games - game - gaming - xbox - ps3 - lag - play - playing - video',\n",
       " 'Topic 61: audio - hdmi - inputs - input - component - video - output - speakers - use - rca',\n",
       " 'Topic 62: smart - netflix - tv - samsung - apps - app - hub - slow - roku - work',\n",
       " 'Topic 63: remote - button - menu - buttons - channel - tv - screen - control - press - turn',\n",
       " 'Topic 64: vizio - smart - model - series - purchased - information - new - products - brand - apps',\n",
       " 'Topic 65: viewing - angle - tv - picture - feet - screen - angles - away - good - distance',\n",
       " 'Topic 66: settings - picture - setting - mode - set - adjust - brightness - menu - turn - contrast',\n",
       " 'Topic 67: just - ve - ll - don - really - like - think - haven - didn - pretty',\n",
       " 'Topic 68: tv - turn - power - time - seconds - minutes - times - turned - just - problem',\n",
       " 'Topic 69: good - quality - picture - sound - price - tv - great - excellent - better - overall',\n",
       " 'Topic 70: price - model - samsung - quality - tvs - models - better - best - end - brands',\n",
       " 'Topic 71: lg - tv - magic - smart - just - remote - 47 - like - 42 - better',\n",
       " 'Topic 72: quality - viewing - set - high - experience - image - content - video - performance - quite',\n",
       " 'Topic 73: sound - volume - tv - speakers - loud - hear - noise - audio - low - buzzing',\n",
       " 'Topic 74: tv - buy - bought - product - money - just - don - bad - time - brand',\n",
       " 'Topic 75: set - sets - picture - easy - box - good - great - just - far - time',\n",
       " 'Topic 76: tv - got - just - didn - went - looked - thought - did - really - wasn',\n",
       " 'Topic 77: old - tv - years - year - new - samsung - dlp - replace - picture - bought',\n",
       " 'Topic 78: sharp - picture - tv - clear - good - aquos - colors - color - sound - great',\n",
       " 'Topic 79: amazon - tv - return - replacement - new - days - received - service - sent - day',\n",
       " 'Topic 80: recommend - tv - great - highly - picture - quality - price - love - looking - product',\n",
       " 'Topic 81: stand - tv - base - screws - screw - plastic - attach - just - swivel - place',\n",
       " 'Topic 82: great - works - fine - tv - just - picture - good - work - worked - far',\n",
       " 'Topic 83: tv - did - reviews - research - purchase - decided - lot - happy - buy - looking',\n",
       " 'Topic 84: tv - money - worth - extra - buy - spend - just - want - quality - pay',\n",
       " 'Topic 85: inch - tv - 32 - 1080p - 720p - lcd - hdtv - 42 - difference - led',\n",
       " 'Topic 86: price - tv - got - deal - great - bought - black - friday - 00 - paid',\n",
       " 'Topic 87: tv - audio - receiver - sound - hdmi - home - speakers - theater - optical - use',\n",
       " 'Topic 88: usb - tv - play - media - video - drive - files - movies - dlna - videos',\n",
       " 'Topic 89: tv - issue - time - just - issues - quality - really - able - going - having',\n",
       " 'Topic 90: remote - tv - control - work - use - universal - box - works - remotes - buttons',\n",
       " 'Topic 91: hd - cable - picture - channels - standard - dvd - def - look - good - high',\n",
       " 'Topic 92: ray - player - blu - dvd - tv - blue - movies - hd - cable - sony',\n",
       " 'Topic 93: screen - image - display - ratio - aspect - resolution - mode - picture - video - black',\n",
       " 'Topic 94: tv - like - tvs - look - samsung - led - buy - makes - best - great',\n",
       " 'Topic 95: ve - tv - far - problems - picture - months - happy - haven - ago - issues',\n",
       " 'Topic 96: bought - tv - christmas - gift - son - great - got - loves - purchased - husband',\n",
       " 'Topic 97: tv - good - really - price - pretty - nice - like - looking - picture - quality',\n",
       " 'Topic 98: plasma - led - lcd - picture - samsung - panasonic - better - best - tvs - quality',\n",
       " 'Topic 99: samsung - hdtv - inch - led - lcd - 1080p - picture - 40 - 46 - 55']"
      ]
     },
     "execution_count": 91,
     "metadata": {},
     "output_type": "execute_result"
    }
   ],
   "source": [
    "print_topics(model_100, cv.get_feature_names())"
   ]
  }
 ],
 "metadata": {
  "kernelspec": {
   "display_name": "Python 2",
   "language": "python",
   "name": "python2"
  },
  "language_info": {
   "codemirror_mode": {
    "name": "ipython",
    "version": 2
   },
   "file_extension": ".py",
   "mimetype": "text/x-python",
   "name": "python",
   "nbconvert_exporter": "python",
   "pygments_lexer": "ipython2",
   "version": "2.7.12"
  }
 },
 "nbformat": 4,
 "nbformat_minor": 0
}
